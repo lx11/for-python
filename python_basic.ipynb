{
 "cells": [
  {
   "cell_type": "code",
   "execution_count": null,
   "metadata": {
    "collapsed": true
   },
   "outputs": [],
   "source": []
  },
  {
   "cell_type": "markdown",
   "metadata": {},
   "source": [
    "## function propty\n",
    "### we can give function to add some propty\n",
    "* it save to __dict__,like dict"
   ]
  },
  {
   "cell_type": "code",
   "execution_count": 1,
   "metadata": {},
   "outputs": [
    {
     "data": {
      "text/plain": [
       "{'context': 'foo', 'private': 1}"
      ]
     },
     "execution_count": 1,
     "metadata": {},
     "output_type": "execute_result"
    }
   ],
   "source": [
    "def foo():\n",
    "    print('add propty...')\n",
    "foo.private = 1\n",
    "foo.context = 'foo'\n",
    "foo.__dict__"
   ]
  },
  {
   "cell_type": "markdown",
   "metadata": {},
   "source": [
    "## hasattr, getattr, setattr"
   ]
  },
  {
   "cell_type": "code",
   "execution_count": 13,
   "metadata": {},
   "outputs": [
    {
     "name": "stdout",
     "output_type": "stream",
     "text": [
      "True\n",
      "False\n"
     ]
    }
   ],
   "source": [
    "# hasattr\n",
    "class A(object):\n",
    "    name = 'lx'\n",
    "print(hasattr(A, 'name'))\n",
    "print(hasattr(A, 'age'))"
   ]
  },
  {
   "cell_type": "code",
   "execution_count": 15,
   "metadata": {},
   "outputs": [
    {
     "name": "stdout",
     "output_type": "stream",
     "text": [
      "lx_b\n",
      "None\n"
     ]
    }
   ],
   "source": [
    "# getattr\n",
    "class B(object):\n",
    "    name = 'lx_b'\n",
    "    age = 24\n",
    "    def func(self):\n",
    "        pass\n",
    "print(getattr(B, 'name'))\n",
    "print(getattr(B(), 'func')())\n",
    "print(getattr(B, 'address', 'university'))"
   ]
  },
  {
   "cell_type": "code",
   "execution_count": 16,
   "metadata": {},
   "outputs": [
    {
     "name": "stdout",
     "output_type": "stream",
     "text": [
      "lx_c\n",
      "24\n"
     ]
    }
   ],
   "source": [
    "# setattr\n",
    "class C(object):\n",
    "    name = 'lx_b'\n",
    "setattr(C, 'age', 24)\n",
    "setattr(C, 'name', 'lx_c')\n",
    "print(getattr(C, 'name'))\n",
    "print(getattr(C, 'age'))"
   ]
  },
  {
   "cell_type": "markdown",
   "metadata": {},
   "source": [
    "## make python more effictive"
   ]
  },
  {
   "cell_type": "code",
   "execution_count": 4,
   "metadata": {
    "collapsed": true
   },
   "outputs": [],
   "source": [
    "class DataItem(object):\n",
    "    def __init__(self, name, age, address):\n",
    "        self.name = name\n",
    "        self.age = age\n",
    "        self.address = address\n",
    "d = DataItem('lx', '24', 'wangyi.com')\n"
   ]
  },
  {
   "cell_type": "code",
   "execution_count": 11,
   "metadata": {},
   "outputs": [
    {
     "name": "stdout",
     "output_type": "stream",
     "text": [
      "<class 'list'>\n",
      "obj.__class__ = <class '__main__.DataItem'>\n",
      "obj.__delattr__ = <method-wrapper '__delattr__' of DataItem object at 0x0000000005215F60>\n",
      "obj.__dict__ = {'name': 'lx', 'age': '24', 'address': 'wangyi.com'}\n",
      "obj.__dir__ = <built-in method __dir__ of DataItem object at 0x0000000005215F60>\n",
      "obj.__doc__ = None\n",
      "obj.__eq__ = <method-wrapper '__eq__' of DataItem object at 0x0000000005215F60>\n",
      "obj.__format__ = <built-in method __format__ of DataItem object at 0x0000000005215F60>\n",
      "obj.__ge__ = <method-wrapper '__ge__' of DataItem object at 0x0000000005215F60>\n",
      "obj.__getattribute__ = <method-wrapper '__getattribute__' of DataItem object at 0x0000000005215F60>\n",
      "obj.__gt__ = <method-wrapper '__gt__' of DataItem object at 0x0000000005215F60>\n",
      "obj.__hash__ = <method-wrapper '__hash__' of DataItem object at 0x0000000005215F60>\n",
      "obj.__init__ = <bound method DataItem.__init__ of <__main__.DataItem object at 0x0000000005215F60>>\n",
      "obj.__init_subclass__ = <built-in method __init_subclass__ of type object at 0x00000000046586A8>\n",
      "obj.__le__ = <method-wrapper '__le__' of DataItem object at 0x0000000005215F60>\n",
      "obj.__lt__ = <method-wrapper '__lt__' of DataItem object at 0x0000000005215F60>\n",
      "obj.__module__ = __main__\n",
      "obj.__ne__ = <method-wrapper '__ne__' of DataItem object at 0x0000000005215F60>\n",
      "obj.__new__ = <built-in method __new__ of type object at 0x000000006C05B7B0>\n",
      "obj.__reduce__ = <built-in method __reduce__ of DataItem object at 0x0000000005215F60>\n",
      "obj.__reduce_ex__ = <built-in method __reduce_ex__ of DataItem object at 0x0000000005215F60>\n",
      "obj.__repr__ = <method-wrapper '__repr__' of DataItem object at 0x0000000005215F60>\n",
      "obj.__setattr__ = <method-wrapper '__setattr__' of DataItem object at 0x0000000005215F60>\n",
      "obj.__sizeof__ = <built-in method __sizeof__ of DataItem object at 0x0000000005215F60>\n",
      "obj.__str__ = <method-wrapper '__str__' of DataItem object at 0x0000000005215F60>\n",
      "obj.__subclasshook__ = <built-in method __subclasshook__ of type object at 0x00000000046586A8>\n",
      "obj.__weakref__ = None\n",
      "obj.address = wangyi.com\n",
      "obj.age = 24\n",
      "obj.name = lx\n"
     ]
    }
   ],
   "source": [
    "# 打印这个类完整内容\n",
    "def dump(obj):\n",
    "    print(type(dir(obj)))\n",
    "    for attr in dir(obj):\n",
    "        print('obj.{:s} = {}'.format(attr, getattr(obj, attr)))\n",
    "#     for attr, value in obj.__dict__.items():\n",
    "#         print('obj.{:s} = {}'.format(attr, value))\n",
    "dump(d)"
   ]
  },
  {
   "cell_type": "code",
   "execution_count": null,
   "metadata": {
    "collapsed": true
   },
   "outputs": [],
   "source": [
    "# 通过递归方式调用getsizeof()函数\n",
    "import sys\n",
    "def get_size(obj, seen=None):\n",
    "    # 递归查找对象属性大小\n",
    "    size = sys.getsizeof(obj)\n",
    "    if seen is None:\n",
    "        seen = set()\n",
    "    obj_id = id(obj)\n",
    "    if obj_id in seen:\n",
    "        return 0\n",
    "    seen.add(obj_id) # 集合用add添加元素\n",
    "    if isinstance(obj, dict):\n",
    "        size += sum([get_size(k, seen) for k in obj.keys()])\n",
    "        size += sum([get_size(v, seen) for v in obj.values()])\n",
    "    elif hasattr(obj, '__dict__'):\n",
    "        size += get_size(obj.__dict__, seen)\n",
    "#     elif hasattr(obj, '__iter__'):\n",
    "#         size += get_size(obj.__iter__, seen)\n",
    "    return size       "
   ]
  }
 ],
 "metadata": {
  "kernelspec": {
   "display_name": "Python 3",
   "language": "python",
   "name": "python3"
  },
  "language_info": {
   "codemirror_mode": {
    "name": "ipython",
    "version": 3
   },
   "file_extension": ".py",
   "mimetype": "text/x-python",
   "name": "python",
   "nbconvert_exporter": "python",
   "pygments_lexer": "ipython3",
   "version": "3.6.1"
  }
 },
 "nbformat": 4,
 "nbformat_minor": 2
}
